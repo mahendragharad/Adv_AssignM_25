{
  "nbformat": 4,
  "nbformat_minor": 0,
  "metadata": {
    "colab": {
      "provenance": []
    },
    "kernelspec": {
      "name": "python3",
      "display_name": "Python 3"
    },
    "language_info": {
      "name": "python"
    }
  },
  "cells": [
    {
      "cell_type": "markdown",
      "source": [
        "**Q1. What is the distinction between a numpy array and a pandas data frame? Is there a way to\n",
        "convert between the two if there is?**\n",
        "\n",
        "ANS :\n",
        "\n",
        "\n",
        "---\n",
        "\n",
        "\n",
        "**Numpy Array:**\n",
        "\n",
        "\n",
        "---\n",
        "\n",
        "\n",
        "Numpy is a powerful library for numerical computing in Python.\n",
        "A numpy array is a grid of values, all of the same data type, and indexed by a tuple of non-negative integers.\n",
        "\n",
        "Numpy arrays are homogeneous, meaning they can only contain elements of the same data type.\n",
        "\n",
        "Numpy arrays are primarily used for mathematical and scientific computations, such as linear algebra operations, numerical calculations, and element-wise operations.\n",
        "\n",
        "It lacks named axes or headers, making it less suitable for handling labeled or structured data.\n",
        "\n",
        "\n",
        "---\n",
        "\n",
        "\n",
        "**Pandas DataFrame:**\n",
        "\n",
        "\n",
        "---\n",
        "\n",
        "\n",
        "Pandas is a data manipulation library built on top of Numpy, providing more flexible and expressive data structures.\n",
        "\n",
        "A pandas DataFrame is a 2-dimensional labeled data structure with columns of potentially different data types.\n",
        "\n",
        "DataFrames are heterogeneous, allowing different data types for each column.\n",
        "Pandas DataFrames are designed for handling structured data, similar to spreadsheets or SQL tables, and they support features like indexing, label-based slicing, and filtering.\n",
        "\n",
        "DataFrames have column and row labels, which make it easier to work with labeled data.\n",
        "\n",
        "\n",
        "---\n",
        "\n",
        "**Yes, there are methods to convert data between Numpy arrays and Pandas DataFrames:**\n",
        "\n",
        "**Numpy Array to Pandas DataFrame:**\n",
        "\n",
        "You can convert a Numpy array to a Pandas DataFrame using the pd.DataFrame()\n",
        "\n",
        "\n",
        "\n",
        "---\n",
        "**Pandas DataFrame to Numpy Array:**\n",
        "\n",
        "To convert a Pandas DataFrame to a Numpy array, you can use the .values attribute of the DataFrame. Here's an example:\n",
        "\n",
        "\n",
        "---\n",
        "\n",
        "\n"
      ],
      "metadata": {
        "id": "FcM2t6tMfmN3"
      }
    },
    {
      "cell_type": "markdown",
      "source": [
        "\n",
        "\n",
        "---\n",
        "\n"
      ],
      "metadata": {
        "id": "YScucMxrfluv"
      }
    },
    {
      "cell_type": "markdown",
      "source": [
        "**Q2. What can go wrong when an user enters in a stock-ticker symbol, and how do you handle it?**\n",
        "\n",
        "ANS :\n",
        "\n",
        "When a user enters a stock ticker symbol, several issues can potentially arise, and it's essential to handle these situations gracefully to provide a good user experience. Here are some common problems that can occur and how to handle them:\n",
        "\n",
        "\n",
        "---\n",
        "\n",
        "\n",
        "**Invalid Ticker Symbol**:\n",
        "\n",
        "\n",
        "---\n",
        "\n",
        "\n",
        "**Issue:** The user may enter an incorrect or invalid stock ticker symbol that doesn't correspond to any publicly traded company.\n",
        "\n",
        "**Handling:**\n",
        "\n",
        " Implement a validation check to verify if the entered ticker symbol exists. You can use a financial data API or a reliable financial data source to validate the symbol. If the symbol is invalid, inform the user and prompt them to enter a correct one.\n",
        "Missing Data or Discontinued Stock:\n",
        "\n",
        "\n",
        "---\n",
        "\n",
        "\n",
        "**Issue:** Some ticker symbols may not have available data due to various reasons, such as a discontinued stock or data not being available for that particular symbol.\n",
        "\n",
        "**Handling:**\n",
        "\n",
        " When fetching data for a given symbol, check if the data exists and is complete. If the data is not available or insufficient, provide an appropriate error message to the user, indicating that the requested data is not accessible.\n",
        "Connectivity Issues:\n"
      ],
      "metadata": {
        "id": "S-AMADv8hWEo"
      }
    },
    {
      "cell_type": "markdown",
      "source": [
        "\n",
        "\n",
        "---\n",
        "\n"
      ],
      "metadata": {
        "id": "Vj1PvQxMiHjN"
      }
    },
    {
      "cell_type": "markdown",
      "source": [
        "**Q3. Identify some of the plotting techniques that are used to produce a stock-market chart.**\n",
        "\n",
        "ANS :\n",
        "\n",
        "In Python, the common chart types used to generate stock market charts are:\n",
        "\n",
        "Line Chart\n",
        "\n",
        "Candlestick Chart\n",
        "\n",
        "OHLC Chart (Open-High-Low-Close)\n",
        "\n",
        "Moving Average Chart\n",
        "\n",
        "Bollinger Bands\n",
        "\n",
        "Volume Chart\n",
        "\n",
        "Relative Strength Index (RSI) Chart\n",
        "\n",
        "\n",
        "These chart types can be created using various Python libraries such as Matplotlib, Plotly, and Pandas, along with data from financial data sources or APIs."
      ],
      "metadata": {
        "id": "Bc-fGztTfk3a"
      }
    },
    {
      "cell_type": "markdown",
      "source": [
        "\n",
        "\n",
        "---\n",
        "\n"
      ],
      "metadata": {
        "id": "GYuT0Ncmiyg2"
      }
    },
    {
      "cell_type": "markdown",
      "source": [
        "**Q4. Why is it essential to print a legend on a stock market chart?**\n",
        "\n",
        "ANS : Printing a legend on a stock market chart is essential because it provides crucial information about the data represented in the chart. A legend acts as a key that helps users understand the meaning and context of various elements plotted on the chart. In the context of stock market charts, the legend serves the following purposes:"
      ],
      "metadata": {
        "id": "K_09BMNZiziy"
      }
    },
    {
      "cell_type": "markdown",
      "source": [
        "\n",
        "\n",
        "---\n",
        "\n"
      ],
      "metadata": {
        "id": "usJFLdEqjEqi"
      }
    },
    {
      "cell_type": "markdown",
      "source": [
        "**Q5. What is the best way to limit the length of a pandas data frame to less than a year?**\n",
        "\n",
        "ANS : To limit the length of a pandas DataFrame to less than a year, you can use the datetime functionality provided by pandas to filter the data based on a specific time range. Here's the best way to achieve this:\n",
        "\n",
        "Assuming you have a pandas DataFrame with a datetime column (let's call it 'date_column') representing the dates, you can follow these steps:\n",
        "\n",
        "Convert the 'date_column' to pandas datetime format (if it's not already in datetime format).\n",
        "\n",
        "Determine the start date and end date to limit the DataFrame to less than a year. You can use Python's datetime module to get the current date and calculate the start date (one year ago) accordingly.\n",
        "\n",
        "Use boolean indexing to filter the DataFrame based on the date range.\n",
        "\n"
      ],
      "metadata": {
        "id": "JE3G5jufjFwu"
      }
    },
    {
      "cell_type": "code",
      "source": [
        "import pandas as pd\n",
        "from datetime import datetime, timedelta\n",
        "\n",
        "# Assuming you have a DataFrame 'df' with a column named 'date_column'\n",
        "# Convert 'date_column' to pandas datetime format (skip this step if already in datetime format)\n",
        "df['date_column'] = pd.to_datetime(df['date_column'])\n",
        "\n",
        "# Calculate the start date (one year ago from the current date)\n",
        "current_date = datetime.now()\n",
        "start_date = current_date - timedelta(days=365)\n",
        "\n",
        "# Filter the DataFrame to include data within the date range (less than a year)\n",
        "filtered_df = df[df['date_column'] >= start_date]\n",
        "\n",
        "# Now 'filtered_df' contains data within the last year.\n"
      ],
      "metadata": {
        "id": "VWYo1tGzixpn"
      },
      "execution_count": null,
      "outputs": []
    },
    {
      "cell_type": "markdown",
      "source": [
        "\n",
        "\n",
        "---\n",
        "\n"
      ],
      "metadata": {
        "id": "CbVmKa8ajx-0"
      }
    },
    {
      "cell_type": "markdown",
      "source": [
        "**Q6. What is the definition of a 180-day moving average?**\n",
        "\n",
        "ANS : The 180-day moving average, also known as the 180-day simple moving average (SMA), is a technical indicator used in financial analysis to smooth out price data and identify trends over a specific period. It is calculated by taking the average of a stock's closing prices over the last 180 trading days.\n",
        "\n",
        "Here's the definition of the 180-day moving average:\n",
        "\n",
        "Take the closing prices of a financial instrument, such as a stock, for the last 180 trading days.\n",
        "\n",
        "Add up the closing prices for these 180 days.\n",
        "\n",
        "Divide the sum by 180 to calculate the 180-day moving average.\n",
        "\n",
        "The 180-day moving average helps traders and analysts identify the general direction of a stock's price movement over a more extended period, reducing the impact of short-term price fluctuations. It smooths out the price data, making it easier to visualize the long-term trend.\n",
        "\n",
        "Traders often use moving averages of different time periods (e.g., 50-day, 100-day, 200-day) to gain insights into short-term and long-term trends in the stock market. The 180-day moving average is an example of a longer-term moving average that can provide a broader perspective on a stock's performance.\n",
        "\n",
        "\n",
        "\n",
        "\n",
        "\n"
      ],
      "metadata": {
        "id": "O6kWYYq2j0UX"
      }
    },
    {
      "cell_type": "markdown",
      "source": [
        "\n",
        "\n",
        "---\n",
        "\n"
      ],
      "metadata": {
        "id": "11_L18QpkOxG"
      }
    },
    {
      "cell_type": "markdown",
      "source": [
        "**Q7. Did the chapter&#39;s final example use &quot;indirect&quot; importing? If so, how exactly do you do it?**\n",
        "\n",
        "ANS : The steps to achieve indirect importing are as follows:\n",
        "\n",
        "Create an intermediate module (let's call it intermediate.py) that contains the import statement to import the desired module (let's call it module1.py).\n",
        "\n",
        "In intermediate.py, use the syntax from module1 import function1 to import the specific functions (e.g., function1) from module1.py.\n",
        "\n",
        "In the main script (e.g., main.py), import the intermediate module using from intermediate import function1.\n",
        "\n",
        "Here's a step-by-step example:\n",
        "\n",
        "module1.py:"
      ],
      "metadata": {
        "id": "VnewSe3nkQMO"
      }
    },
    {
      "cell_type": "code",
      "source": [
        "# This is module1.py\n",
        "\n",
        "def function1():\n",
        "    return \"Hello from function1 in module1\"\n"
      ],
      "metadata": {
        "id": "nw2tcL4PnU17"
      },
      "execution_count": null,
      "outputs": []
    },
    {
      "cell_type": "code",
      "source": [
        "# This is intermediate.py\n",
        "\n",
        "# Importing function1 from module1 indirectly\n",
        "from module1 import function1\n"
      ],
      "metadata": {
        "id": "s0Jex_tbnX9j"
      },
      "execution_count": null,
      "outputs": []
    },
    {
      "cell_type": "code",
      "source": [
        "# This is main.py\n",
        "\n",
        "# Importing function1 from intermediate.py\n",
        "from intermediate import function1\n",
        "\n",
        "# Now, we can use function1 in our main script\n",
        "print(function1())  # Output: \"Hello from function1 in module1\"\n"
      ],
      "metadata": {
        "id": "7nysZobGnZ_b"
      },
      "execution_count": null,
      "outputs": []
    },
    {
      "cell_type": "markdown",
      "source": [
        "In this example, main.py directly imports function1 from intermediate.py. However, intermediate.py indirectly imports function1 from module1.py.\n",
        "\n",
        "This approach allows you to keep your main script (main.py) cleaner by importing functions through intermediate modules, especially when dealing with larger projects with multiple levels of dependencies."
      ],
      "metadata": {
        "id": "_uYk0PSbncps"
      }
    },
    {
      "cell_type": "markdown",
      "source": [
        "\n",
        "\n",
        "---\n",
        "\n"
      ],
      "metadata": {
        "id": "CQhkoQ_cng9x"
      }
    }
  ]
}